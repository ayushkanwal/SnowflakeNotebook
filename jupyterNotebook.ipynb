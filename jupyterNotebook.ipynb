{
  "cells": [
    {
      "cell_type": "markdown",
      "metadata": {
        "id": "view-in-github",
        "colab_type": "text"
      },
      "source": [
        "<a href=\"https://colab.research.google.com/github/ayushkanwal/SnowflakeNotebook/blob/main/jupyterNotebook.ipynb\" target=\"_parent\"><img src=\"https://colab.research.google.com/assets/colab-badge.svg\" alt=\"Open In Colab\"/></a>"
      ]
    },
    {
      "cell_type": "code",
      "execution_count": 7,
      "id": "25b45ddb",
      "metadata": {
        "id": "25b45ddb"
      },
      "outputs": [],
      "source": [
        "import pandas as pd\n",
        "import numpy as np\n",
        "import matplotlib.pyplot as plt\n"
      ]
    },
    {
      "cell_type": "code",
      "source": [
        "pip install snowflake-connector-python\n"
      ],
      "metadata": {
        "colab": {
          "base_uri": "https://localhost:8080/"
        },
        "id": "WR_EItwTw1-9",
        "outputId": "5a3271a3-27f9-48ef-fe58-501343658e1e"
      },
      "id": "WR_EItwTw1-9",
      "execution_count": 3,
      "outputs": [
        {
          "output_type": "stream",
          "name": "stdout",
          "text": [
            "Collecting snowflake-connector-python\n",
            "  Downloading snowflake_connector_python-2.7.6-cp37-cp37m-manylinux_2_12_x86_64.manylinux2010_x86_64.manylinux_2_17_x86_64.manylinux2014_x86_64.whl (16.5 MB)\n",
            "\u001b[K     |████████████████████████████████| 16.5 MB 129 kB/s \n",
            "\u001b[?25hRequirement already satisfied: setuptools>34.0.0 in /usr/local/lib/python3.7/dist-packages (from snowflake-connector-python) (57.4.0)\n",
            "Collecting oscrypto<2.0.0\n",
            "  Downloading oscrypto-1.3.0-py2.py3-none-any.whl (194 kB)\n",
            "\u001b[K     |████████████████████████████████| 194 kB 41.5 MB/s \n",
            "\u001b[?25hCollecting cryptography<37.0.0,>=3.1.0\n",
            "  Downloading cryptography-36.0.2-cp36-abi3-manylinux_2_24_x86_64.whl (3.6 MB)\n",
            "\u001b[K     |████████████████████████████████| 3.6 MB 53.4 MB/s \n",
            "\u001b[?25hCollecting pyOpenSSL<22.0.0,>=16.2.0\n",
            "  Downloading pyOpenSSL-21.0.0-py2.py3-none-any.whl (55 kB)\n",
            "\u001b[K     |████████████████████████████████| 55 kB 2.7 MB/s \n",
            "\u001b[?25hRequirement already satisfied: certifi>=2017.4.17 in /usr/local/lib/python3.7/dist-packages (from snowflake-connector-python) (2021.10.8)\n",
            "Requirement already satisfied: charset-normalizer~=2.0.0 in /usr/local/lib/python3.7/dist-packages (from snowflake-connector-python) (2.0.12)\n",
            "Collecting asn1crypto<2.0.0,>0.24.0\n",
            "  Downloading asn1crypto-1.5.1-py2.py3-none-any.whl (105 kB)\n",
            "\u001b[K     |████████████████████████████████| 105 kB 54.0 MB/s \n",
            "\u001b[?25hCollecting pycryptodomex!=3.5.0,<4.0.0,>=3.2\n",
            "  Downloading pycryptodomex-3.14.1-cp35-abi3-manylinux2010_x86_64.whl (2.0 MB)\n",
            "\u001b[K     |████████████████████████████████| 2.0 MB 42.5 MB/s \n",
            "\u001b[?25hRequirement already satisfied: idna<4,>=2.5 in /usr/local/lib/python3.7/dist-packages (from snowflake-connector-python) (2.10)\n",
            "Requirement already satisfied: cffi<2.0.0,>=1.9 in /usr/local/lib/python3.7/dist-packages (from snowflake-connector-python) (1.15.0)\n",
            "Requirement already satisfied: pytz in /usr/local/lib/python3.7/dist-packages (from snowflake-connector-python) (2018.9)\n",
            "Requirement already satisfied: requests<3.0.0 in /usr/local/lib/python3.7/dist-packages (from snowflake-connector-python) (2.23.0)\n",
            "Collecting pyjwt<3.0.0\n",
            "  Downloading PyJWT-2.3.0-py3-none-any.whl (16 kB)\n",
            "Requirement already satisfied: pycparser in /usr/local/lib/python3.7/dist-packages (from cffi<2.0.0,>=1.9->snowflake-connector-python) (2.21)\n",
            "Requirement already satisfied: six>=1.5.2 in /usr/local/lib/python3.7/dist-packages (from pyOpenSSL<22.0.0,>=16.2.0->snowflake-connector-python) (1.15.0)\n",
            "Requirement already satisfied: urllib3!=1.25.0,!=1.25.1,<1.26,>=1.21.1 in /usr/local/lib/python3.7/dist-packages (from requests<3.0.0->snowflake-connector-python) (1.24.3)\n",
            "Requirement already satisfied: chardet<4,>=3.0.2 in /usr/local/lib/python3.7/dist-packages (from requests<3.0.0->snowflake-connector-python) (3.0.4)\n",
            "Installing collected packages: cryptography, asn1crypto, pyOpenSSL, pyjwt, pycryptodomex, oscrypto, snowflake-connector-python\n",
            "Successfully installed asn1crypto-1.5.1 cryptography-36.0.2 oscrypto-1.3.0 pyOpenSSL-21.0.0 pycryptodomex-3.14.1 pyjwt-2.3.0 snowflake-connector-python-2.7.6\n"
          ]
        }
      ]
    },
    {
      "cell_type": "code",
      "execution_count": 8,
      "id": "76b72562",
      "metadata": {
        "scrolled": true,
        "colab": {
          "base_uri": "https://localhost:8080/"
        },
        "id": "76b72562",
        "outputId": "276a56bd-e692-454b-c111-9330a1ec929f"
      },
      "outputs": [
        {
          "output_type": "stream",
          "name": "stdout",
          "text": [
            "UUID ba6c7462-5232-4c14-aa69-fdbca29a7297, SHEEP ASSETTYPE\n"
          ]
        }
      ],
      "source": [
        "#!/usr/bin/env python\n",
        "import snowflake.connector\n",
        "from snowflake.connector import DictCursor\n",
        "\n",
        "# Gets the version\n",
        "ctx = snowflake.connector.connect(\n",
        "    user='codestudio_samplefarm_evening',\n",
        "    password='ikRsb9D00UNr',\n",
        "    account='ft76388.ap-southeast-2'\n",
        "    )\n",
        "cur = ctx.cursor()\n",
        "\n",
        "cur.execute(\"SELECT UUID,ASSETTYPE FROM AW_INTERNAL_STAGING.AW_AURORA_AGRIWEBBDATA.MOBLIVESTOCKGROUP where ASSETTYPE = 'SHEEP' limit 1\")\n",
        "#AW_PRODUCT_DATA_STAGING.IAM_RECORD \n",
        "for rec in cur:\n",
        "     print(' {0}, {1} '.format(rec[0], rec[1]).join([col[0] for col in cur.description])) #returns the first 10 results for columns UUID,DESCRIPTION, STATE, AGE,ASSETTYPE columns from the 200k record\n",
        "     \n",
        "    "
      ]
    },
    {
      "cell_type": "code",
      "execution_count": null,
      "id": "369cbef1",
      "metadata": {
        "scrolled": false,
        "id": "369cbef1"
      },
      "outputs": [],
      "source": [
        ""
      ]
    },
    {
      "cell_type": "code",
      "execution_count": null,
      "id": "56d5e549",
      "metadata": {
        "id": "56d5e549"
      },
      "outputs": [],
      "source": [
        ""
      ]
    },
    {
      "cell_type": "code",
      "execution_count": null,
      "id": "005e1559",
      "metadata": {
        "id": "005e1559"
      },
      "outputs": [],
      "source": [
        ""
      ]
    }
  ],
  "metadata": {
    "kernelspec": {
      "display_name": "Python 3 (ipykernel)",
      "language": "python",
      "name": "python3"
    },
    "language_info": {
      "codemirror_mode": {
        "name": "ipython",
        "version": 3
      },
      "file_extension": ".py",
      "mimetype": "text/x-python",
      "name": "python",
      "nbconvert_exporter": "python",
      "pygments_lexer": "ipython3",
      "version": "3.8.8"
    },
    "colab": {
      "name": "jupyterNotebook.ipynb",
      "provenance": [],
      "include_colab_link": true
    }
  },
  "nbformat": 4,
  "nbformat_minor": 5
}
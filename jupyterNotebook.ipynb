{
  "cells": [
    {
      "cell_type": "markdown",
      "metadata": {
        "colab_type": "text",
        "id": "view-in-github"
      },
      "source": [
        "<a href=\"https://colab.research.google.com/github/ayushkanwal/SnowflakeNotebook/blob/main/jupyterNotebook.ipynb\" target=\"_parent\"><img src=\"https://colab.research.google.com/assets/colab-badge.svg\" alt=\"Open In Colab\"/></a>"
      ]
    },
    {
      "cell_type": "code",
      "execution_count": 35,
      "id": "25b45ddb",
      "metadata": {
        "id": "25b45ddb"
      },
      "outputs": [],
      "source": [
        "import pandas as pd\n",
        "import numpy as np\n",
        "import matplotlib.pyplot as plt\n"
      ]
    },
    {
      "cell_type": "code",
      "execution_count": 36,
      "id": "WR_EItwTw1-9",
      "metadata": {
        "colab": {
          "base_uri": "https://localhost:8080/"
        },
        "id": "WR_EItwTw1-9",
        "outputId": "5a3271a3-27f9-48ef-fe58-501343658e1e"
      },
      "outputs": [],
      "source": [
        "#pip install snowflake-connector-python"
      ]
    },
    {
      "cell_type": "code",
      "execution_count": 37,
      "id": "76b72562",
      "metadata": {
        "colab": {
          "base_uri": "https://localhost:8080/"
        },
        "id": "76b72562",
        "outputId": "276a56bd-e692-454b-c111-9330a1ec929f",
        "scrolled": true
      },
      "outputs": [],
      "source": [
        "#!/usr/bin/env python\n",
        "import snowflake.connector\n",
        "from snowflake.connector import DictCursor\n",
        "\n",
        "# Gets the version\n",
        "ctx = snowflake.connector.connect(\n",
        "    user='codestudio_samplefarm_evening',\n",
        "    password='ikRsb9D00UNr',\n",
        "    account='ft76388.ap-southeast-2'\n",
        "    )\n",
        " \n",
        "\n",
        "# GENERAL TABLES \n",
        "# FOR A BETTER SUMARY OF USEFUL DATA LOOK AT https://justin-uts.atlassian.net/wiki/spaces/AGRIWEB/pages/3801112/Potential+Dimensions+-+Date+2+04+2022\n",
        "\n",
        "    \n",
        "MOBLIVESTOCKGROUP = ctx.cursor()\n",
        "LANDMARK = ctx.cursor()\n",
        "PASTURE = ctx.cursor()\n",
        "RAINFALL_RECORD = ctx.cursor()\n",
        "\n",
        "\n",
        "#IAM_ANIMAL TABLES\n",
        "\n",
        "ANIMAL_CHARACTERISTICS = ctx.cursor()\n",
        "ANIMAL_WEIGHT_SUMMARY = ctx.cursor()\n",
        "ANIMAL_STATE = ctx.cursor()\n",
        "\n",
        "\n",
        "\n",
        "# IAM_RECORDS TABLES\n",
        "\n",
        "#DO WE WANT CASTRATE AND SCORE AS WELL? \n",
        "\n",
        "#SALES TABLES\n",
        "SALE_RECORD_PHYSICALGROUP = ctx.cursor()\n",
        "SALE_RECORD_SINGLE = ctx.cursor()\n",
        "SALE_RECORD = ctx.cursor()\n",
        "\n",
        "#PURCHASE TABLES\n",
        "#PURCHASE_RECORD_PHYSICALGROUP = ctx.cursor() UNAVAILABLE\n",
        "PURCHASE_RECORD_BASE = ctx.cursor()\n",
        "PURCHASE_RECORD_SINGLE = ctx.cursor()\n",
        "PURCHASE_RECORD = ctx.cursor()\n",
        "\n",
        "#MIGHT NEED TO UPDATE THE FOLLOWING AS PHYSICAL GROUP ONES BECOEM AVAILABLE.\n",
        "#WEIGH TABLES\n",
        "WEIGH_RECORD_SINGLE = ctx.cursor()\n",
        "WEIGH_RECORD = ctx.cursor()\n",
        "\n",
        "#LOCATION TABLE\n",
        "LOCATION_CHANGED_RECORD_SINGLE = ctx.cursor()\n",
        "\n",
        "#DEHORN TABLE\n",
        "DEHORN_RECORD_SINGLE = ctx.cursor()\n",
        "\n",
        "#DEATH TABLE\n",
        "DEATH_RECORD_SINGLE = ctx.cursor() \n",
        "\n",
        "#FEED TABLE\n",
        "FEED_RECORD_SINGLE = ctx.cursor()\n",
        "\n",
        "\n"
      ]
    },
    {
      "cell_type": "code",
      "execution_count": 38,
      "id": "369cbef1",
      "metadata": {
        "id": "369cbef1",
        "scrolled": false
      },
      "outputs": [
        {
          "name": "stdout",
          "output_type": "stream",
          "text": [
            "UUID f5f14103-1bab-4130-bfd9-ee3830c5b7d5, SHEEP ASSETTYPE\n"
          ]
        }
      ],
      "source": [
        "MOBLIVESTOCKGROUP.execute(\"SELECT UUID,ASSETTYPE FROM AW_INTERNAL_STAGING.STAGING_AURORA_AGRIWEBBDATA.MOBLIVESTOCKGROUP limit 1\")\n",
        "\n",
        "for rec in MOBLIVESTOCKGROUP:\n",
        "     print(' {0}, {1} '.format(rec[0], rec[1]).join([col[0] for col in MOBLIVESTOCKGROUP.description])) #returns the first 10 results for columns UUID,DESCRIPTION, STATE, AGE,ASSETTYPE columns from the 200k record\n",
        "     "
      ]
    },
    {
      "cell_type": "code",
      "execution_count": 39,
      "id": "d387bc1f",
      "metadata": {},
      "outputs": [
        {
          "name": "stdout",
          "output_type": "stream",
          "text": [
            "UUID f41b96c5-54c1-4339-bc3f-157e1f3000a4, {\"paddock1Id\":\"448b5ff0-51c5-4158-91fa-a38842d990f2\",\"paddock2Id\":\"252ac038-ad63-4eda-9f65-c8a84929b25f\"} META f41b96c5-54c1-4339-bc3f-157e1f3000a4, {\"paddock1Id\":\"448b5ff0-51c5-4158-91fa-a38842d990f2\",\"paddock2Id\":\"252ac038-ad63-4eda-9f65-c8a84929b25f\"} DTYPE f41b96c5-54c1-4339-bc3f-157e1f3000a4, {\"paddock1Id\":\"448b5ff0-51c5-4158-91fa-a38842d990f2\",\"paddock2Id\":\"252ac038-ad63-4eda-9f65-c8a84929b25f\"} _CREATIONINFO f41b96c5-54c1-4339-bc3f-157e1f3000a4, {\"paddock1Id\":\"448b5ff0-51c5-4158-91fa-a38842d990f2\",\"paddock2Id\":\"252ac038-ad63-4eda-9f65-c8a84929b25f\"} DESCRIPTION f41b96c5-54c1-4339-bc3f-157e1f3000a4, {\"paddock1Id\":\"448b5ff0-51c5-4158-91fa-a38842d990f2\",\"paddock2Id\":\"252ac038-ad63-4eda-9f65-c8a84929b25f\"} STYLEURL f41b96c5-54c1-4339-bc3f-157e1f3000a4, {\"paddock1Id\":\"448b5ff0-51c5-4158-91fa-a38842d990f2\",\"paddock2Id\":\"252ac038-ad63-4eda-9f65-c8a84929b25f\"} CREATIONDATE f41b96c5-54c1-4339-bc3f-157e1f3000a4, {\"paddock1Id\":\"448b5ff0-51c5-4158-91fa-a38842d990f2\",\"paddock2Id\":\"252ac038-ad63-4eda-9f65-c8a84929b25f\"} PARENTUUID f41b96c5-54c1-4339-bc3f-157e1f3000a4, {\"paddock1Id\":\"448b5ff0-51c5-4158-91fa-a38842d990f2\",\"paddock2Id\":\"252ac038-ad63-4eda-9f65-c8a84929b25f\"} TENANTID f41b96c5-54c1-4339-bc3f-157e1f3000a4, {\"paddock1Id\":\"448b5ff0-51c5-4158-91fa-a38842d990f2\",\"paddock2Id\":\"252ac038-ad63-4eda-9f65-c8a84929b25f\"} LATLNGSSTR f41b96c5-54c1-4339-bc3f-157e1f3000a4, {\"paddock1Id\":\"448b5ff0-51c5-4158-91fa-a38842d990f2\",\"paddock2Id\":\"252ac038-ad63-4eda-9f65-c8a84929b25f\"} LASTMODIFIER f41b96c5-54c1-4339-bc3f-157e1f3000a4, {\"paddock1Id\":\"448b5ff0-51c5-4158-91fa-a38842d990f2\",\"paddock2Id\":\"252ac038-ad63-4eda-9f65-c8a84929b25f\"} SOLDORREMOVEDDATE f41b96c5-54c1-4339-bc3f-157e1f3000a4, {\"paddock1Id\":\"448b5ff0-51c5-4158-91fa-a38842d990f2\",\"paddock2Id\":\"252ac038-ad63-4eda-9f65-c8a84929b25f\"} STATE f41b96c5-54c1-4339-bc3f-157e1f3000a4, {\"paddock1Id\":\"448b5ff0-51c5-4158-91fa-a38842d990f2\",\"paddock2Id\":\"252ac038-ad63-4eda-9f65-c8a84929b25f\"} LINECOLOR f41b96c5-54c1-4339-bc3f-157e1f3000a4, {\"paddock1Id\":\"448b5ff0-51c5-4158-91fa-a38842d990f2\",\"paddock2Id\":\"252ac038-ad63-4eda-9f65-c8a84929b25f\"} _LASTMODIFIEDINFO f41b96c5-54c1-4339-bc3f-157e1f3000a4, {\"paddock1Id\":\"448b5ff0-51c5-4158-91fa-a38842d990f2\",\"paddock2Id\":\"252ac038-ad63-4eda-9f65-c8a84929b25f\"} FILLCOLOR f41b96c5-54c1-4339-bc3f-157e1f3000a4, {\"paddock1Id\":\"448b5ff0-51c5-4158-91fa-a38842d990f2\",\"paddock2Id\":\"252ac038-ad63-4eda-9f65-c8a84929b25f\"} LANDSIZE f41b96c5-54c1-4339-bc3f-157e1f3000a4, {\"paddock1Id\":\"448b5ff0-51c5-4158-91fa-a38842d990f2\",\"paddock2Id\":\"252ac038-ad63-4eda-9f65-c8a84929b25f\"} CREATOR f41b96c5-54c1-4339-bc3f-157e1f3000a4, {\"paddock1Id\":\"448b5ff0-51c5-4158-91fa-a38842d990f2\",\"paddock2Id\":\"252ac038-ad63-4eda-9f65-c8a84929b25f\"} AREA f41b96c5-54c1-4339-bc3f-157e1f3000a4, {\"paddock1Id\":\"448b5ff0-51c5-4158-91fa-a38842d990f2\",\"paddock2Id\":\"252ac038-ad63-4eda-9f65-c8a84929b25f\"} LASTMODIFIEDDATE f41b96c5-54c1-4339-bc3f-157e1f3000a4, {\"paddock1Id\":\"448b5ff0-51c5-4158-91fa-a38842d990f2\",\"paddock2Id\":\"252ac038-ad63-4eda-9f65-c8a84929b25f\"} LASTSYNCCOUNTER f41b96c5-54c1-4339-bc3f-157e1f3000a4, {\"paddock1Id\":\"448b5ff0-51c5-4158-91fa-a38842d990f2\",\"paddock2Id\":\"252ac038-ad63-4eda-9f65-c8a84929b25f\"} LATITUDE f41b96c5-54c1-4339-bc3f-157e1f3000a4, {\"paddock1Id\":\"448b5ff0-51c5-4158-91fa-a38842d990f2\",\"paddock2Id\":\"252ac038-ad63-4eda-9f65-c8a84929b25f\"} NAME f41b96c5-54c1-4339-bc3f-157e1f3000a4, {\"paddock1Id\":\"448b5ff0-51c5-4158-91fa-a38842d990f2\",\"paddock2Id\":\"252ac038-ad63-4eda-9f65-c8a84929b25f\"} FARMID f41b96c5-54c1-4339-bc3f-157e1f3000a4, {\"paddock1Id\":\"448b5ff0-51c5-4158-91fa-a38842d990f2\",\"paddock2Id\":\"252ac038-ad63-4eda-9f65-c8a84929b25f\"} LONGITUDE f41b96c5-54c1-4339-bc3f-157e1f3000a4, {\"paddock1Id\":\"448b5ff0-51c5-4158-91fa-a38842d990f2\",\"paddock2Id\":\"252ac038-ad63-4eda-9f65-c8a84929b25f\"} ICON f41b96c5-54c1-4339-bc3f-157e1f3000a4, {\"paddock1Id\":\"448b5ff0-51c5-4158-91fa-a38842d990f2\",\"paddock2Id\":\"252ac038-ad63-4eda-9f65-c8a84929b25f\"} TYPE f41b96c5-54c1-4339-bc3f-157e1f3000a4, {\"paddock1Id\":\"448b5ff0-51c5-4158-91fa-a38842d990f2\",\"paddock2Id\":\"252ac038-ad63-4eda-9f65-c8a84929b25f\"} LASTSYNCDATE f41b96c5-54c1-4339-bc3f-157e1f3000a4, {\"paddock1Id\":\"448b5ff0-51c5-4158-91fa-a38842d990f2\",\"paddock2Id\":\"252ac038-ad63-4eda-9f65-c8a84929b25f\"} TITLE f41b96c5-54c1-4339-bc3f-157e1f3000a4, {\"paddock1Id\":\"448b5ff0-51c5-4158-91fa-a38842d990f2\",\"paddock2Id\":\"252ac038-ad63-4eda-9f65-c8a84929b25f\"} _FIVETRAN_DELETED f41b96c5-54c1-4339-bc3f-157e1f3000a4, {\"paddock1Id\":\"448b5ff0-51c5-4158-91fa-a38842d990f2\",\"paddock2Id\":\"252ac038-ad63-4eda-9f65-c8a84929b25f\"} _FIVETRAN_SYNCED\n"
          ]
        }
      ],
      "source": [
        "LANDMARK.execute(\"SELECT * FROM AW_INTERNAL_STAGING.STAGING_AURORA_AGRIWEBBDATA.LANDMARK limit 1\")\n",
        "\n",
        "for rec in LANDMARK:\n",
        "     print(' {0}, {1} '.format(rec[0], rec[1]).join([col[0] for col in LANDMARK.description])) #returns the first 10 results for columns UUID,DESCRIPTION, STATE, AGE,ASSETTYPE columns from the 200k record\n",
        "     \n",
        "    "
      ]
    },
    {
      "cell_type": "code",
      "execution_count": 40,
      "id": "1e588aae",
      "metadata": {},
      "outputs": [
        {
          "name": "stdout",
          "output_type": "stream",
          "text": [
            "UUID 9ba12676-8d35-48bc-9ccd-51084da42caf, None WATERTROUGHS 9ba12676-8d35-48bc-9ccd-51084da42caf, None STATE 9ba12676-8d35-48bc-9ccd-51084da42caf, None PARENTUUID 9ba12676-8d35-48bc-9ccd-51084da42caf, None LONGITUDE 9ba12676-8d35-48bc-9ccd-51084da42caf, None CREATIONDATE 9ba12676-8d35-48bc-9ccd-51084da42caf, None _LASTMODIFIEDINFO 9ba12676-8d35-48bc-9ccd-51084da42caf, None CREATOR 9ba12676-8d35-48bc-9ccd-51084da42caf, None _CREATIONINFO 9ba12676-8d35-48bc-9ccd-51084da42caf, None LASTMODIFIER 9ba12676-8d35-48bc-9ccd-51084da42caf, None FEEDTYPES 9ba12676-8d35-48bc-9ccd-51084da42caf, None ARABLELANDSIZE 9ba12676-8d35-48bc-9ccd-51084da42caf, None COLOR 9ba12676-8d35-48bc-9ccd-51084da42caf, None LASTSYNCCOUNTER 9ba12676-8d35-48bc-9ccd-51084da42caf, None LASTMODIFIEDDATE 9ba12676-8d35-48bc-9ccd-51084da42caf, None LATLNGSTR 9ba12676-8d35-48bc-9ccd-51084da42caf, None SOLDORREMOVEDDATE 9ba12676-8d35-48bc-9ccd-51084da42caf, None LASTSYNCDATE 9ba12676-8d35-48bc-9ccd-51084da42caf, None STOCKINGRATE 9ba12676-8d35-48bc-9ccd-51084da42caf, None FEEDONOFFER 9ba12676-8d35-48bc-9ccd-51084da42caf, None CROPTYPE 9ba12676-8d35-48bc-9ccd-51084da42caf, None FARMID 9ba12676-8d35-48bc-9ccd-51084da42caf, None PASTUREDRYMATTEROUTPUTPERDAY 9ba12676-8d35-48bc-9ccd-51084da42caf, None AREA 9ba12676-8d35-48bc-9ccd-51084da42caf, None DTYPE 9ba12676-8d35-48bc-9ccd-51084da42caf, None TENANTID 9ba12676-8d35-48bc-9ccd-51084da42caf, None LATITUDE 9ba12676-8d35-48bc-9ccd-51084da42caf, None WITHOLDINGDATE 9ba12676-8d35-48bc-9ccd-51084da42caf, None TITLE 9ba12676-8d35-48bc-9ccd-51084da42caf, None PASTURESTATE 9ba12676-8d35-48bc-9ccd-51084da42caf, None LANDSIZE 9ba12676-8d35-48bc-9ccd-51084da42caf, None VEGETATION 9ba12676-8d35-48bc-9ccd-51084da42caf, None META 9ba12676-8d35-48bc-9ccd-51084da42caf, None DESCRIPTION 9ba12676-8d35-48bc-9ccd-51084da42caf, None GRAZABLEAREA 9ba12676-8d35-48bc-9ccd-51084da42caf, None _FIVETRAN_DELETED 9ba12676-8d35-48bc-9ccd-51084da42caf, None _FIVETRAN_SYNCED\n"
          ]
        }
      ],
      "source": [
        "PASTURE.execute(\"SELECT * FROM AW_INTERNAL_STAGING.STAGING_AURORA_AGRIWEBBDATA.PASTURE limit 1\")\n",
        "\n",
        "for rec in PASTURE:\n",
        "     print(' {0}, {1} '.format(rec[0], rec[1]).join([col[0] for col in PASTURE.description])) #returns the first 10 results for columns UUID,DESCRIPTION, STATE, AGE,ASSETTYPE columns from the 200k record\n",
        "     \n",
        "    "
      ]
    },
    {
      "cell_type": "code",
      "execution_count": 41,
      "id": "726a12c6",
      "metadata": {},
      "outputs": [
        {
          "name": "stdout",
          "output_type": "stream",
          "text": [
            "UUID 9f5046e8-83b0-40f6-ad14-b3c543d2c953, None PARTIALID 9f5046e8-83b0-40f6-ad14-b3c543d2c953, None ISPARTIAL 9f5046e8-83b0-40f6-ad14-b3c543d2c953, None MOBID 9f5046e8-83b0-40f6-ad14-b3c543d2c953, None _CREATIONINFO 9f5046e8-83b0-40f6-ad14-b3c543d2c953, None LASTMODIFIEDDATE 9f5046e8-83b0-40f6-ad14-b3c543d2c953, None RAINGAUGE 9f5046e8-83b0-40f6-ad14-b3c543d2c953, None CREATOR 9f5046e8-83b0-40f6-ad14-b3c543d2c953, None DTYPE 9f5046e8-83b0-40f6-ad14-b3c543d2c953, None AMOUNT 9f5046e8-83b0-40f6-ad14-b3c543d2c953, None SEQUENCE 9f5046e8-83b0-40f6-ad14-b3c543d2c953, None RECORDTYPE 9f5046e8-83b0-40f6-ad14-b3c543d2c953, None CREATIONDATE 9f5046e8-83b0-40f6-ad14-b3c543d2c953, None MILLIMETERS 9f5046e8-83b0-40f6-ad14-b3c543d2c953, None FARMID 9f5046e8-83b0-40f6-ad14-b3c543d2c953, None TENANTID 9f5046e8-83b0-40f6-ad14-b3c543d2c953, None APPLICATIONDATE 9f5046e8-83b0-40f6-ad14-b3c543d2c953, None RECORDGROUPID 9f5046e8-83b0-40f6-ad14-b3c543d2c953, None _LASTMODIFIEDINFO 9f5046e8-83b0-40f6-ad14-b3c543d2c953, None TITLE 9f5046e8-83b0-40f6-ad14-b3c543d2c953, None META 9f5046e8-83b0-40f6-ad14-b3c543d2c953, None STATE 9f5046e8-83b0-40f6-ad14-b3c543d2c953, None _FIVETRAN_DELETED 9f5046e8-83b0-40f6-ad14-b3c543d2c953, None _FIVETRAN_SYNCED\n"
          ]
        }
      ],
      "source": [
        "RAINFALL_RECORD.execute(\"SELECT * FROM AW_INTERNAL_STAGING.STAGING_AURORA_AGRIWEBBDATA.RAINFALLRECORD limit 1\")\n",
        "\n",
        "for rec in RAINFALL_RECORD:\n",
        "     print(' {0}, {1} '.format(rec[0], rec[1]).join([col[0] for col in RAINFALL_RECORD.description])) #returns the first 10 results for columns UUID,DESCRIPTION, STATE, AGE,ASSETTYPE columns from the 200k record\n",
        "     \n",
        "    "
      ]
    },
    {
      "cell_type": "code",
      "execution_count": 42,
      "id": "56d5e549",
      "metadata": {
        "id": "56d5e549"
      },
      "outputs": [
        {
          "name": "stdout",
          "output_type": "stream",
          "text": [
            "TYPE animal-characteristics, v1 VERSION animal-characteristics, v1 ANIMAL_ID animal-characteristics, v1 TENANT_ID animal-characteristics, v1 LATEST_EVENT_DATE animal-characteristics, v1 CREATION_DATE animal-characteristics, v1 LAST_MODIFIED_DATE animal-characteristics, v1 CREATOR animal-characteristics, v1 LAST_MODIFIER animal-characteristics, v1 IS_DELETED animal-characteristics, v1 BIRTH_DATE animal-characteristics, v1 BIRTH_YEAR animal-characteristics, v1 BREED_ASSESSED animal-characteristics, v1 BREED_DISTRIBUTION animal-characteristics, v1 BREED_DISTRIBUTION_DENOMINATOR animal-characteristics, v1 SEX animal-characteristics, v1 SPECIES_BINOMIAL_NAME animal-characteristics, v1 SPECIES_COMMON_NAME\n"
          ]
        }
      ],
      "source": [
        "ANIMAL_CHARACTERISTICS.execute(\"SELECT * FROM AW_PRODUCT_DATA_STAGING.IAM_ANIMAL.ANIMAL_CHARACTERISTICS limit 1\")\n",
        "\n",
        "for rec in ANIMAL_CHARACTERISTICS:\n",
        "     print(' {0}, {1} '.format(rec[0], rec[1]).join([col[0] for col in ANIMAL_CHARACTERISTICS.description])) #returns the first 10 results for columns UUID,DESCRIPTION, STATE, AGE,ASSETTYPE columns from the 200k record\n",
        "     \n",
        "    "
      ]
    },
    {
      "cell_type": "code",
      "execution_count": 43,
      "id": "005e1559",
      "metadata": {
        "id": "005e1559"
      },
      "outputs": [
        {
          "name": "stdout",
          "output_type": "stream",
          "text": [
            "TYPE animal-weight-summary, v1 VERSION animal-weight-summary, v1 ANIMAL_ID animal-weight-summary, v1 TENANT_ID animal-weight-summary, v1 LATEST_EVENT_DATE animal-weight-summary, v1 CREATION_DATE animal-weight-summary, v1 LAST_MODIFIED_DATE animal-weight-summary, v1 CREATOR animal-weight-summary, v1 LAST_MODIFIER animal-weight-summary, v1 IS_DELETED animal-weight-summary, v1 LIVE_WEIGHT_USER_UNIT animal-weight-summary, v1 LIVE_WEIGHT_USER_VALUE animal-weight-summary, v1 LIVE_WEIGHT_METRIC_UNIT animal-weight-summary, v1 LIVE_WEIGHT_METRIC_VALUE animal-weight-summary, v1 LIVE_WEIGHT_DATE animal-weight-summary, v1 LATEST_ADG_USER_UNIT animal-weight-summary, v1 LATEST_ADG_USER_VALUE animal-weight-summary, v1 LATEST_ADG_METRIC_UNIT animal-weight-summary, v1 LATEST_ADG_METRIC_VALUE animal-weight-summary, v1 OVERALL_ADG_USER_UNIT animal-weight-summary, v1 OVERALL_ADG_USER_VALUE animal-weight-summary, v1 OVERALL_ADG_METRIC_UNIT animal-weight-summary, v1 OVERALL_ADG_METRIC_VALUE animal-weight-summary, v1 ASSUMED_ADG_USER_UNIT animal-weight-summary, v1 ASSUMED_ADG_USER_VALUE animal-weight-summary, v1 ASSUMED_ADG_METRIC_UNIT animal-weight-summary, v1 ASSUMED_ADG_METRIC_VALUE animal-weight-summary, v1 ESTIMATED_WEIGHT_USER_UNIT animal-weight-summary, v1 ESTIMATED_WEIGHT_USER_VALUE animal-weight-summary, v1 ESTIMATED_WEIGHT_METRIC_UNIT animal-weight-summary, v1 ESTIMATED_WEIGHT_METRIC_VALUE\n"
          ]
        }
      ],
      "source": [
        "ANIMAL_WEIGHT_SUMMARY.execute(\"SELECT * FROM AW_PRODUCT_DATA_STAGING.IAM_ANIMAL.ANIMAL_WEIGHT_SUMMARY limit 1\")\n",
        "\n",
        "for rec in ANIMAL_WEIGHT_SUMMARY:\n",
        "     print(' {0}, {1} '.format(rec[0], rec[1]).join([col[0] for col in ANIMAL_WEIGHT_SUMMARY.description])) #returns the first 10 results for columns UUID,DESCRIPTION, STATE, AGE,ASSETTYPE columns from the 200k record\n",
        "     \n",
        "    "
      ]
    },
    {
      "cell_type": "code",
      "execution_count": 44,
      "id": "734cce02",
      "metadata": {},
      "outputs": [
        {
          "name": "stdout",
          "output_type": "stream",
          "text": [
            "TYPE animal-state, v1 VERSION animal-state, v1 ANIMAL_ID animal-state, v1 TENANT_ID animal-state, v1 LATEST_EVENT_DATE animal-state, v1 CREATION_DATE animal-state, v1 LAST_MODIFIED_DATE animal-state, v1 CREATOR animal-state, v1 LAST_MODIFIER animal-state, v1 IS_DELETED animal-state, v1 CURRENT_LOCATION animal-state, v1 ON_FARM animal-state, v1 ON_FARM_DATE animal-state, v1 OFF_FARM_DATE animal-state, v1 DISPOSAL_METHOD animal-state, v1 FATE animal-state, v1 FERTILITY_STATUS animal-state, v1 LACTATING animal-state, v1 REARING_RANK animal-state, v1 REPRODUCTIVE_STATUS animal-state, v1 STATUS_DATE animal-state, v1 WITHHOLDING_DATE_MEAT animal-state, v1 WITHHOLDING_DATE_MILK animal-state, v1 WITHHOLDING_DATE_EXPORT animal-state, v1 WITHHOLDING_DATE_WOOL animal-state, v1 WITHHOLDING_DATE_ORGANIC animal-state, v1 WEANED animal-state, v1 OFFSPRING_COUNT animal-state, v1 SCORE_USER_UNIT animal-state, v1 SCORE_USER_VALUE animal-state, v1 SCORE_METRIC_UNIT animal-state, v1 SCORE_METRIC_VALUE animal-state, v1 SCORE_DATE animal-state, v1 ANIMAL_UNITS_MODEL animal-state, v1 LAST_SEEN animal-state, v1 HAS_HAD_OFFSPRING animal-state, v1 OBSERVATIONS\n"
          ]
        }
      ],
      "source": [
        "ANIMAL_STATE.execute(\"SELECT * FROM AW_PRODUCT_DATA_STAGING.IAM_ANIMAL.ANIMAL_STATE limit 1\")\n",
        "\n",
        "for rec in ANIMAL_STATE:\n",
        "     print(' {0}, {1} '.format(rec[0], rec[1]).join([col[0] for col in ANIMAL_STATE.description])) #returns the first 10 results for columns UUID,DESCRIPTION, STATE, AGE,ASSETTYPE columns from the 200k record\n",
        "     "
      ]
    },
    {
      "cell_type": "code",
      "execution_count": 45,
      "id": "0eda5315",
      "metadata": {},
      "outputs": [
        {
          "name": "stdout",
          "output_type": "stream",
          "text": [
            "TYPE sale-record, v1 VERSION sale-record, v1 RECORD_ID sale-record, v1 TENANT_ID sale-record, v1 LATEST_EVENT_DATE sale-record, v1 CREATION_DATE sale-record, v1 LAST_MODIFIED_DATE sale-record, v1 CREATOR sale-record, v1 LAST_MODIFIER sale-record, v1 IS_DELETED sale-record, v1 RECORD_TYPE sale-record, v1 RECORD_GROUP_ID sale-record, v1 RECORD_GROUP_STEP_ID sale-record, v1 OBSERVATION_DATE sale-record, v1 DONE_BY_ID sale-record, v1 DONE_BY_NAME sale-record, v1 RECORD_ID_HISTORY sale-record, v1 PHYSICAL_GROUP_ID sale-record, v1 HEAD_COUNT sale-record, v1 HEAD_CONDEMNED sale-record, v1 FATE_CODE sale-record, v1 FATE_DETAILS sale-record, v1 WEIGHT_USER_UNIT sale-record, v1 WEIGHT_USER_VALUE sale-record, v1 TRANSPORT_TYPE sale-record, v1 DESTINATION_LOCATION_ID sale-record, v1 DESTINATION_LOCATION_DISPLAY_NAME sale-record, v1 DESTINATION_LOCATION_POSTCODE sale-record, v1 TRANSPORT_METHOD sale-record, v1 TRANSPORT_OPERATOR sale-record, v1 WAYBILL sale-record, v1 VEHICLE_ID sale-record, v1 TRANSIT_TIME sale-record, v1 TRANSPORT_TALLY sale-record, v1 TRANSPORT_DEPARTURE_DATE sale-record, v1 TRANSPORT_DESTINATION_LOCATION_TYPE sale-record, v1 TRANSPORT_DESTINATION_ADDRESS sale-record, v1 TRANSPORT_SOURCE_AW_FARM_ID sale-record, v1 TRANSPORT_DESTINATION_AW_FARM_ID sale-record, v1 TRANSPORT_TRANSFER_ID sale-record, v1 TRANSFER_OPTIONS sale-record, v1 SPECIES sale-record, v1 OWNERSHIP_NEW_OWNER_ID sale-record, v1 OWNERSHIP_NEW_OWNER_DISPLAY_NAME sale-record, v1 OWNERSHIP_PREVIOUS_CONTACT sale-record, v1 REFERENCE sale-record, v1 DECLARATION_TYPE sale-record, v1 DECLARATION_DATA sale-record, v1 PHYSICAL_GROUP_INCOME sale-record, v1 PHYSICAL_GROUP_OUTGOINGS\n"
          ]
        }
      ],
      "source": [
        "SALE_RECORD_PHYSICALGROUP.execute(\"SELECT * FROM AW_PRODUCT_DATA_STAGING.IAM_RECORD.SALE_RECORD_PHYSICAL_GROUP limit 1\")\n",
        "\n",
        "for rec in SALE_RECORD_PHYSICALGROUP:\n",
        "     print(' {0}, {1} '.format(rec[0], rec[1]).join([col[0] for col in SALE_RECORD_PHYSICALGROUP.description])) #returns the first 10 results for columns UUID,DESCRIPTION, STATE, AGE,ASSETTYPE columns from the 200k record\n",
        "     "
      ]
    },
    {
      "cell_type": "code",
      "execution_count": 46,
      "id": "9e51beb4",
      "metadata": {},
      "outputs": [
        {
          "name": "stdout",
          "output_type": "stream",
          "text": [
            "TYPE sale-record, v1 VERSION sale-record, v1 RECORD_ID sale-record, v1 TENANT_ID sale-record, v1 LATEST_EVENT_DATE sale-record, v1 CREATION_DATE sale-record, v1 LAST_MODIFIED_DATE sale-record, v1 CREATOR sale-record, v1 LAST_MODIFIER sale-record, v1 IS_DELETED sale-record, v1 RECORD_TYPE sale-record, v1 RECORD_GROUP_ID sale-record, v1 RECORD_GROUP_STEP_ID sale-record, v1 OBSERVATION_DATE sale-record, v1 DONE_BY_ID sale-record, v1 DONE_BY_NAME sale-record, v1 RECORD_ID_HISTORY sale-record, v1 ANIMAL_IDS sale-record, v1 PHYSICAL_GROUP_IDS sale-record, v1 PHYSICAL_GROUP_WEIGHTS sale-record, v1 FATE_CODE sale-record, v1 FATE_DETAILS sale-record, v1 TRANSPORT_TYPE sale-record, v1 DESTINATION_LOCATION_ID sale-record, v1 DESTINATION_LOCATION_DISPLAY_NAME sale-record, v1 DESTINATION_LOCATION_POSTCODE sale-record, v1 TRANSPORT_METHOD sale-record, v1 TRANSPORT_OPERATOR sale-record, v1 WAYBILL sale-record, v1 VEHICLE_ID sale-record, v1 TRANSIT_TIME sale-record, v1 TRANSPORT_TALLY sale-record, v1 TRANSPORT_DEPARTURE_DATE sale-record, v1 TRANSPORT_DESTINATION_LOCATION_TYPE sale-record, v1 TRANSPORT_DESTINATION_ADDRESS sale-record, v1 TRANSPORT_SOURCE_AW_FARM_ID sale-record, v1 TRANSPORT_DESTINATION_AW_FARM_ID sale-record, v1 TRANSPORT_TRANSFER_ID sale-record, v1 TRANSFER_OPTIONS sale-record, v1 SPECIES sale-record, v1 OWNERSHIP_NEW_OWNER_ID sale-record, v1 OWNERSHIP_NEW_OWNER_DISPLAY_NAME sale-record, v1 OWNERSHIP_PREVIOUS_CONTACT sale-record, v1 REFERENCE sale-record, v1 DECLARATION_TYPE sale-record, v1 DECLARATION_DATA sale-record, v1 CARCASS_KILL_DATE sale-record, v1 CARCASS_INDIVIDUAL_DATA sale-record, v1 TOTAL_PHYSICAL_GROUP_HEAD_CONDEMNED sale-record, v1 PER_PHYSICAL_GROUP_HEAD_CONDEMNED sale-record, v1 USER_SPECIFIED_WHITE_LISTED_RECORD_TYPES sale-record, v1 SCM_ID sale-record, v1 SCM_DESTINATION_STAGE_ID sale-record, v1 INCOME sale-record, v1 OUTGOINGS sale-record, v1 INCOME_AMOUNT sale-record, v1 OUTGOINGS_AMOUNT\n"
          ]
        }
      ],
      "source": [
        "SALE_RECORD.execute(\"SELECT * FROM AW_PRODUCT_DATA_STAGING.IAM_RECORD.SALE_RECORD limit 1\")\n",
        "\n",
        "for rec in SALE_RECORD:\n",
        "     print(' {0}, {1} '.format(rec[0], rec[1]).join([col[0] for col in SALE_RECORD.description])) #returns the first 10 results for columns UUID,DESCRIPTION, STATE, AGE,ASSETTYPE columns from the 200k record\n",
        "     "
      ]
    },
    {
      "cell_type": "code",
      "execution_count": 47,
      "id": "da8eb4d8",
      "metadata": {},
      "outputs": [
        {
          "name": "stdout",
          "output_type": "stream",
          "text": [
            "TYPE sale-record, v1 VERSION sale-record, v1 RECORD_ID sale-record, v1 TENANT_ID sale-record, v1 LATEST_EVENT_DATE sale-record, v1 CREATION_DATE sale-record, v1 LAST_MODIFIED_DATE sale-record, v1 CREATOR sale-record, v1 LAST_MODIFIER sale-record, v1 IS_DELETED sale-record, v1 RECORD_TYPE sale-record, v1 RECORD_GROUP_ID sale-record, v1 RECORD_GROUP_STEP_ID sale-record, v1 OBSERVATION_DATE sale-record, v1 DONE_BY_ID sale-record, v1 DONE_BY_NAME sale-record, v1 RECORD_ID_HISTORY sale-record, v1 ANIMAL_ID sale-record, v1 FATE_CODE sale-record, v1 FATE_DETAILS sale-record, v1 TRANSPORT_TYPE sale-record, v1 DESTINATION_LOCATION_ID sale-record, v1 DESTINATION_LOCATION_DISPLAY_NAME sale-record, v1 DESTINATION_LOCATION_POSTCODE sale-record, v1 TRANSPORT_METHOD sale-record, v1 TRANSPORT_OPERATOR sale-record, v1 WAYBILL sale-record, v1 VEHICLE_ID sale-record, v1 TRANSIT_TIME sale-record, v1 TRANSPORT_TALLY sale-record, v1 TRANSPORT_DEPARTURE_DATE sale-record, v1 TRANSPORT_DESTINATION_LOCATION_TYPE sale-record, v1 TRANSPORT_DESTINATION_ADDRESS sale-record, v1 TRANSPORT_SOURCE_AW_FARM_ID sale-record, v1 TRANSPORT_DESTINATION_AW_FARM_ID sale-record, v1 TRANSPORT_TRANSFER_ID sale-record, v1 TRANSFER_OPTIONS sale-record, v1 SPECIES sale-record, v1 OWNERSHIP_NEW_OWNER_ID sale-record, v1 OWNERSHIP_NEW_OWNER_DISPLAY_NAME sale-record, v1 OWNERSHIP_PREVIOUS_CONTACT sale-record, v1 REFERENCE sale-record, v1 DECLARATION_TYPE sale-record, v1 DECLARATION_DATA sale-record, v1 CARCASS_KILL_DATE sale-record, v1 CARCASS_NET_WEIGHT_USER_UNIT sale-record, v1 CARCASS_NET_WEIGHT_USER_VALUE sale-record, v1 CARCASS_FAULTS sale-record, v1 CARCASS_PRICE_PER_WEIGHT_USER_UNIT sale-record, v1 CARCASS_PRICE_PER_WEIGHT_USER_VALUE sale-record, v1 CARCASS_PRICE_PER_HEAD_USER_UNIT sale-record, v1 CARCASS_PRICE_PER_HEAD_USER_VALUE sale-record, v1 CARCASS_MEASURES sale-record, v1 CARCASS_ID sale-record, v1 CARCASS_SOURCE_ID sale-record, v1 USER_SPECIFIED_WHITE_LISTED_RECORD_TYPES sale-record, v1 SCM_ID sale-record, v1 SCM_DESTINATION_STAGE_ID sale-record, v1 ANIMAL_INCOME sale-record, v1 ANIMAL_OUTGOINGS sale-record, v1 ANIMAL_AUX_OUTGOINGS\n"
          ]
        }
      ],
      "source": [
        "SALE_RECORD_SINGLE.execute(\"SELECT * FROM AW_PRODUCT_DATA_STAGING.IAM_RECORD.SALE_RECORD_SINGLE limit 1\")\n",
        "\n",
        "for rec in SALE_RECORD_SINGLE:\n",
        "     print(' {0}, {1} '.format(rec[0], rec[1]).join([col[0] for col in SALE_RECORD_SINGLE.description])) #returns the first 10 results for columns UUID,DESCRIPTION, STATE, AGE,ASSETTYPE columns from the 200k record\n",
        "     "
      ]
    },
    {
      "cell_type": "code",
      "execution_count": 48,
      "id": "0c541d6e",
      "metadata": {},
      "outputs": [
        {
          "name": "stdout",
          "output_type": "stream",
          "text": [
            "TYPE purchase-record, v1 VERSION purchase-record, v1 RECORD_ID purchase-record, v1 TENANT_ID purchase-record, v1 LATEST_EVENT_DATE purchase-record, v1 CREATION_DATE purchase-record, v1 LAST_MODIFIED_DATE purchase-record, v1 CREATOR purchase-record, v1 LAST_MODIFIER purchase-record, v1 IS_DELETED purchase-record, v1 RECORD_TYPE purchase-record, v1 RECORD_GROUP_ID purchase-record, v1 RECORD_GROUP_STEP_ID purchase-record, v1 OBSERVATION_DATE purchase-record, v1 DONE_BY_ID purchase-record, v1 DONE_BY_NAME purchase-record, v1 RECORD_ID_HISTORY purchase-record, v1 ANIMAL_IDS purchase-record, v1 TRANSPORT_TYPE purchase-record, v1 SOURCE_LOCATION_ID purchase-record, v1 SOURCE_LOCATION_DISPLAY_NAME purchase-record, v1 SOURCE_LOCATION_POSTCODE purchase-record, v1 TRANSPORT_METHOD purchase-record, v1 TRANSPORT_OPERATOR purchase-record, v1 WAYBILL purchase-record, v1 VEHICLE_ID purchase-record, v1 TRANSIT_TIME purchase-record, v1 TRANSPORT_TALLY purchase-record, v1 TRANSPORT_DEPARTURE_DATE purchase-record, v1 TRANSPORT_ARRIVAL_DATE purchase-record, v1 TRANSPORT_DESTINATION_AW_FARM_ID purchase-record, v1 TRANSPORT_TRANSFER_ID purchase-record, v1 OWNERSHIP_PREVIOUS_OWNER_ID purchase-record, v1 OWNERSHIP_PREVIOUS_OWNER_DISPLAY_NAME purchase-record, v1 OWNERSHIP_PREVIOUS_CONTACT purchase-record, v1 REFERENCE purchase-record, v1 DECLARATION_TYPE purchase-record, v1 DECLARATION_DATA purchase-record, v1 ANIMAL_STATE_CAPTURE purchase-record, v1 OUTGOINGS\n"
          ]
        }
      ],
      "source": [
        "PURCHASE_RECORD_BASE.execute(\"SELECT * FROM AW_PRODUCT_DATA_STAGING.IAM_RECORD.PURCHASE_RECORD_BASE limit 1\")\n",
        "\n",
        "for rec in PURCHASE_RECORD_BASE:\n",
        "     print(' {0}, {1} '.format(rec[0], rec[1]).join([col[0] for col in PURCHASE_RECORD_BASE.description])) #returns the first 10 results for columns UUID,DESCRIPTION, STATE, AGE,ASSETTYPE columns from the 200k record\n",
        "     "
      ]
    },
    {
      "cell_type": "code",
      "execution_count": 49,
      "id": "e5beb624",
      "metadata": {},
      "outputs": [
        {
          "name": "stdout",
          "output_type": "stream",
          "text": [
            "TYPE purchase-record, v1 VERSION purchase-record, v1 RECORD_ID purchase-record, v1 TENANT_ID purchase-record, v1 LATEST_EVENT_DATE purchase-record, v1 CREATION_DATE purchase-record, v1 LAST_MODIFIED_DATE purchase-record, v1 CREATOR purchase-record, v1 LAST_MODIFIER purchase-record, v1 IS_DELETED purchase-record, v1 RECORD_TYPE purchase-record, v1 RECORD_GROUP_ID purchase-record, v1 RECORD_GROUP_STEP_ID purchase-record, v1 OBSERVATION_DATE purchase-record, v1 DONE_BY_ID purchase-record, v1 DONE_BY_NAME purchase-record, v1 RECORD_ID_HISTORY purchase-record, v1 ANIMAL_IDS purchase-record, v1 TRANSPORT_TYPE purchase-record, v1 SOURCE_LOCATION_ID purchase-record, v1 SOURCE_LOCATION_DISPLAY_NAME purchase-record, v1 SOURCE_LOCATION_POSTCODE purchase-record, v1 TRANSPORT_METHOD purchase-record, v1 TRANSPORT_OPERATOR purchase-record, v1 WAYBILL purchase-record, v1 VEHICLE_ID purchase-record, v1 TRANSIT_TIME purchase-record, v1 TRANSPORT_TALLY purchase-record, v1 TRANSPORT_DEPARTURE_DATE purchase-record, v1 TRANSPORT_ARRIVAL_DATE purchase-record, v1 TRANSPORT_DESTINATION_AW_FARM_ID purchase-record, v1 TRANSPORT_TRANSFER_ID purchase-record, v1 OWNERSHIP_PREVIOUS_OWNER_ID purchase-record, v1 OWNERSHIP_PREVIOUS_OWNER_DISPLAY_NAME purchase-record, v1 OWNERSHIP_PREVIOUS_CONTACT purchase-record, v1 REFERENCE purchase-record, v1 DECLARATION_TYPE purchase-record, v1 DECLARATION_DATA purchase-record, v1 ANIMAL_STATE_CAPTURE purchase-record, v1 OUTGOINGS purchase-record, v1 OUTGOINGS_AMOUNT\n"
          ]
        }
      ],
      "source": [
        "PURCHASE_RECORD.execute(\"SELECT * FROM AW_PRODUCT_DATA_STAGING.IAM_RECORD.PURCHASE_RECORD limit 1\")\n",
        "\n",
        "for rec in PURCHASE_RECORD:\n",
        "     print(' {0}, {1} '.format(rec[0], rec[1]).join([col[0] for col in PURCHASE_RECORD.description])) #returns the first 10 results for columns UUID,DESCRIPTION, STATE, AGE,ASSETTYPE columns from the 200k record\n",
        "     "
      ]
    },
    {
      "cell_type": "code",
      "execution_count": 50,
      "id": "dde6dab3",
      "metadata": {},
      "outputs": [
        {
          "name": "stdout",
          "output_type": "stream",
          "text": [
            "TYPE purchase-record, v1 VERSION purchase-record, v1 RECORD_ID purchase-record, v1 TENANT_ID purchase-record, v1 LATEST_EVENT_DATE purchase-record, v1 CREATION_DATE purchase-record, v1 LAST_MODIFIED_DATE purchase-record, v1 CREATOR purchase-record, v1 LAST_MODIFIER purchase-record, v1 IS_DELETED purchase-record, v1 RECORD_TYPE purchase-record, v1 RECORD_GROUP_ID purchase-record, v1 RECORD_GROUP_STEP_ID purchase-record, v1 OBSERVATION_DATE purchase-record, v1 DONE_BY_ID purchase-record, v1 DONE_BY_NAME purchase-record, v1 RECORD_ID_HISTORY purchase-record, v1 ANIMAL_ID purchase-record, v1 TRANSPORT_TYPE purchase-record, v1 SOURCE_LOCATION_ID purchase-record, v1 SOURCE_LOCATION_DISPLAY_NAME purchase-record, v1 SOURCE_LOCATION_POSTCODE purchase-record, v1 TRANSPORT_METHOD purchase-record, v1 TRANSPORT_OPERATOR purchase-record, v1 WAYBILL purchase-record, v1 VEHICLE_ID purchase-record, v1 TRANSIT_TIME purchase-record, v1 TRANSPORT_TALLY purchase-record, v1 TRANSPORT_DEPARTURE_DATE purchase-record, v1 TRANSPORT_ARRIVAL_DATE purchase-record, v1 TRANSPORT_DESTINATION_AW_FARM_ID purchase-record, v1 TRANSPORT_TRANSFER_ID purchase-record, v1 OWNERSHIP_PREVIOUS_OWNER_ID purchase-record, v1 OWNERSHIP_PREVIOUS_OWNER_DISPLAY_NAME purchase-record, v1 OWNERSHIP_PREVIOUS_CONTACT purchase-record, v1 REFERENCE purchase-record, v1 DECLARATION_TYPE purchase-record, v1 DECLARATION_DATA purchase-record, v1 ANIMAL_STATE_CAPTURE purchase-record, v1 ANIMAL_OUTGOINGS purchase-record, v1 ANIMAL_AUX_OUTGOINGS\n"
          ]
        }
      ],
      "source": [
        "PURCHASE_RECORD_SINGLE.execute(\"SELECT * FROM AW_PRODUCT_DATA_STAGING.IAM_RECORD.PURCHASE_RECORD_SINGLE limit 1\")\n",
        "\n",
        "for rec in PURCHASE_RECORD_SINGLE:\n",
        "     print(' {0}, {1} '.format(rec[0], rec[1]).join([col[0] for col in PURCHASE_RECORD_SINGLE.description])) #returns the first 10 results for columns UUID,DESCRIPTION, STATE, AGE,ASSETTYPE columns from the 200k record\n",
        "     "
      ]
    },
    {
      "cell_type": "code",
      "execution_count": 51,
      "id": "7ed9136b",
      "metadata": {},
      "outputs": [
        {
          "name": "stdout",
          "output_type": "stream",
          "text": [
            "TYPE weigh-record, v1 VERSION weigh-record, v1 RECORD_ID weigh-record, v1 TENANT_ID weigh-record, v1 LATEST_EVENT_DATE weigh-record, v1 CREATION_DATE weigh-record, v1 LAST_MODIFIED_DATE weigh-record, v1 CREATOR weigh-record, v1 LAST_MODIFIER weigh-record, v1 IS_DELETED weigh-record, v1 RECORD_TYPE weigh-record, v1 RECORD_GROUP_ID weigh-record, v1 RECORD_GROUP_STEP_ID weigh-record, v1 OBSERVATION_DATE weigh-record, v1 DONE_BY_ID weigh-record, v1 DONE_BY_NAME weigh-record, v1 RECORD_ID_HISTORY weigh-record, v1 ANIMAL_ID weigh-record, v1 WEIGHT_USER_UNIT weigh-record, v1 WEIGHT_USER_VALUE weigh-record, v1 WEIGHT_METRIC_UNIT weigh-record, v1 WEIGHT_METRIC_VALUE\n"
          ]
        }
      ],
      "source": [
        "WEIGH_RECORD_SINGLE.execute(\"SELECT * FROM AW_PRODUCT_DATA_STAGING.IAM_RECORD.WEIGH_RECORD_SINGLE limit 1\")\n",
        "\n",
        "for rec in WEIGH_RECORD_SINGLE:\n",
        "     print(' {0}, {1} '.format(rec[0], rec[1]).join([col[0] for col in WEIGH_RECORD_SINGLE.description])) #returns the first 10 results for columns UUID,DESCRIPTION, STATE, AGE,ASSETTYPE columns from the 200k record\n",
        "     "
      ]
    },
    {
      "cell_type": "code",
      "execution_count": 52,
      "id": "5f9ccc74",
      "metadata": {},
      "outputs": [
        {
          "name": "stdout",
          "output_type": "stream",
          "text": [
            "TYPE weigh-record, v1 VERSION weigh-record, v1 RECORD_ID weigh-record, v1 TENANT_ID weigh-record, v1 LATEST_EVENT_DATE weigh-record, v1 CREATION_DATE weigh-record, v1 LAST_MODIFIED_DATE weigh-record, v1 CREATOR weigh-record, v1 LAST_MODIFIER weigh-record, v1 IS_DELETED weigh-record, v1 RECORD_TYPE weigh-record, v1 RECORD_GROUP_ID weigh-record, v1 RECORD_GROUP_STEP_ID weigh-record, v1 OBSERVATION_DATE weigh-record, v1 DONE_BY_ID weigh-record, v1 DONE_BY_NAME weigh-record, v1 RECORD_ID_HISTORY weigh-record, v1 ANIMAL_IDS weigh-record, v1 INDIVIDUAL_WEIGHTS weigh-record, v1 RECORD_INPUT_TYPE weigh-record, v1 BULK_WEIGHT\n"
          ]
        }
      ],
      "source": [
        "WEIGH_RECORD.execute(\"SELECT * FROM AW_PRODUCT_DATA_STAGING.IAM_RECORD.WEIGH_RECORD limit 1\")\n",
        "\n",
        "for rec in WEIGH_RECORD:\n",
        "     print(' {0}, {1} '.format(rec[0], rec[1]).join([col[0] for col in WEIGH_RECORD.description])) #returns the first 10 results for columns UUID,DESCRIPTION, STATE, AGE,ASSETTYPE columns from the 200k record\n",
        "     "
      ]
    },
    {
      "cell_type": "code",
      "execution_count": 53,
      "id": "9548fab1",
      "metadata": {},
      "outputs": [
        {
          "name": "stdout",
          "output_type": "stream",
          "text": [
            "TYPE location-changed-record, v1 VERSION location-changed-record, v1 RECORD_ID location-changed-record, v1 TENANT_ID location-changed-record, v1 LATEST_EVENT_DATE location-changed-record, v1 CREATION_DATE location-changed-record, v1 LAST_MODIFIED_DATE location-changed-record, v1 CREATOR location-changed-record, v1 LAST_MODIFIER location-changed-record, v1 IS_DELETED location-changed-record, v1 RECORD_TYPE location-changed-record, v1 RECORD_GROUP_ID location-changed-record, v1 RECORD_GROUP_STEP_ID location-changed-record, v1 OBSERVATION_DATE location-changed-record, v1 DONE_BY_ID location-changed-record, v1 DONE_BY_NAME location-changed-record, v1 RECORD_ID_HISTORY location-changed-record, v1 ANIMAL_ID location-changed-record, v1 LOCATION_ID\n"
          ]
        }
      ],
      "source": [
        "LOCATION_CHANGED_RECORD_SINGLE.execute(\"SELECT * FROM AW_PRODUCT_DATA_STAGING.IAM_RECORD.LOCATION_CHANGED_RECORD_SINGLE limit 1\")\n",
        "\n",
        "for rec in LOCATION_CHANGED_RECORD_SINGLE:\n",
        "     print(' {0}, {1} '.format(rec[0], rec[1]).join([col[0] for col in LOCATION_CHANGED_RECORD_SINGLE.description])) #returns the first 10 results for columns UUID,DESCRIPTION, STATE, AGE,ASSETTYPE columns from the 200k record\n",
        "     "
      ]
    },
    {
      "cell_type": "code",
      "execution_count": 54,
      "id": "f3b84cd7",
      "metadata": {},
      "outputs": [
        {
          "name": "stdout",
          "output_type": "stream",
          "text": [
            "TYPE dehorn-record, v1 VERSION dehorn-record, v1 RECORD_ID dehorn-record, v1 TENANT_ID dehorn-record, v1 LATEST_EVENT_DATE dehorn-record, v1 CREATION_DATE dehorn-record, v1 LAST_MODIFIED_DATE dehorn-record, v1 CREATOR dehorn-record, v1 LAST_MODIFIER dehorn-record, v1 IS_DELETED dehorn-record, v1 RECORD_TYPE dehorn-record, v1 RECORD_GROUP_ID dehorn-record, v1 RECORD_GROUP_STEP_ID dehorn-record, v1 OBSERVATION_DATE dehorn-record, v1 DONE_BY_ID dehorn-record, v1 DONE_BY_NAME dehorn-record, v1 RECORD_ID_HISTORY dehorn-record, v1 ANIMAL_ID\n"
          ]
        }
      ],
      "source": [
        "DEHORN_RECORD_SINGLE.execute(\"SELECT * FROM AW_PRODUCT_DATA_STAGING.IAM_RECORD.DEHORN_RECORD_SINGLE limit 1\")\n",
        "\n",
        "for rec in DEHORN_RECORD_SINGLE:\n",
        "     print(' {0}, {1} '.format(rec[0], rec[1]).join([col[0] for col in DEHORN_RECORD_SINGLE.description])) #returns the first 10 results for columns UUID,DESCRIPTION, STATE, AGE,ASSETTYPE columns from the 200k record\n",
        "     "
      ]
    },
    {
      "cell_type": "code",
      "execution_count": 55,
      "id": "6fe054da",
      "metadata": {},
      "outputs": [
        {
          "name": "stdout",
          "output_type": "stream",
          "text": [
            "TYPE death-record, v1 VERSION death-record, v1 RECORD_ID death-record, v1 TENANT_ID death-record, v1 LATEST_EVENT_DATE death-record, v1 CREATION_DATE death-record, v1 LAST_MODIFIED_DATE death-record, v1 CREATOR death-record, v1 LAST_MODIFIER death-record, v1 IS_DELETED death-record, v1 RECORD_TYPE death-record, v1 RECORD_GROUP_ID death-record, v1 RECORD_GROUP_STEP_ID death-record, v1 OBSERVATION_DATE death-record, v1 DONE_BY_ID death-record, v1 DONE_BY_NAME death-record, v1 RECORD_ID_HISTORY death-record, v1 ANIMAL_ID death-record, v1 FATE death-record, v1 TRANSPORT_TYPE death-record, v1 DESTINATION_LOCATION_ID death-record, v1 DESTINATION_LOCATION_DISPLAY_NAME death-record, v1 DESTINATION_LOCATION_POSTCODE death-record, v1 TRANSPORT_METHOD death-record, v1 TRANSPORT_OPERATOR death-record, v1 WAYBILL death-record, v1 VEHICLE_ID death-record, v1 TRANSIT_TIME death-record, v1 TRANSPORT_TALLY death-record, v1 TRANSPORT_DEPARTURE_DATE death-record, v1 TRANSPORT_DESTINATION_LOCATION_TYPE death-record, v1 TRANSPORT_DESTINATION_ADDRESS death-record, v1 TRANSPORT_SOURCE_AW_FARM_ID death-record, v1 TRANSPORT_DESTINATION_AW_FARM_ID death-record, v1 TRANSPORT_TRANSFER_ID death-record, v1 TRANSFER_OPTIONS death-record, v1 SPECIES\n"
          ]
        }
      ],
      "source": [
        "DEATH_RECORD_SINGLE.execute(\"SELECT * FROM AW_PRODUCT_DATA_STAGING.IAM_RECORD.DEATH_RECORD_SINGLE limit 1\")\n",
        "\n",
        "for rec in DEATH_RECORD_SINGLE:\n",
        "     print(' {0}, {1} '.format(rec[0], rec[1]).join([col[0] for col in DEATH_RECORD_SINGLE.description])) #returns the first 10 results for columns UUID,DESCRIPTION, STATE, AGE,ASSETTYPE columns from the 200k record\n",
        "     "
      ]
    },
    {
      "cell_type": "code",
      "execution_count": 56,
      "id": "4acfa187",
      "metadata": {},
      "outputs": [
        {
          "name": "stdout",
          "output_type": "stream",
          "text": [
            "TYPE feed-record, v1 VERSION feed-record, v1 RECORD_ID feed-record, v1 TENANT_ID feed-record, v1 LATEST_EVENT_DATE feed-record, v1 CREATION_DATE feed-record, v1 LAST_MODIFIED_DATE feed-record, v1 CREATOR feed-record, v1 LAST_MODIFIER feed-record, v1 IS_DELETED feed-record, v1 RECORD_TYPE feed-record, v1 RECORD_GROUP_ID feed-record, v1 RECORD_GROUP_STEP_ID feed-record, v1 OBSERVATION_DATE feed-record, v1 DONE_BY_ID feed-record, v1 DONE_BY_NAME feed-record, v1 RECORD_ID_HISTORY feed-record, v1 ANIMAL_ID feed-record, v1 ALLOCATION_METHOD feed-record, v1 DESCRIPTION feed-record, v1 FEED_DETAILS feed-record, v1 FEED_MIX_ID feed-record, v1 FEED_MIX_NAME feed-record, v1 FEED_MIX_TYPE feed-record, v1 FEED_MIX_COMPONENTS feed-record, v1 FEED_MIX_RATIOS feed-record, v1 FEED_MIX_AMOUNTS feed-record, v1 FEED_MIX_DESCRIPTION feed-record, v1 PADDOCK_DISTRIBUTION\n"
          ]
        }
      ],
      "source": [
        "FEED_RECORD_SINGLE.execute(\"SELECT * FROM AW_PRODUCT_DATA_STAGING.IAM_RECORD.FEED_RECORD_SINGLE limit 1\")\n",
        "\n",
        "for rec in FEED_RECORD_SINGLE:\n",
        "     print(' {0}, {1} '.format(rec[0], rec[1]).join([col[0] for col in FEED_RECORD_SINGLE.description])) #returns the first 10 results for columns UUID,DESCRIPTION, STATE, AGE,ASSETTYPE columns from the 200k record\n",
        "     "
      ]
    }
  ],
  "metadata": {
    "colab": {
      "include_colab_link": true,
      "name": "jupyterNotebook.ipynb",
      "provenance": []
    },
    "kernelspec": {
      "display_name": "Python 3 (ipykernel)",
      "language": "python",
      "name": "python3"
    },
    "language_info": {
      "codemirror_mode": {
        "name": "ipython",
        "version": 3
      },
      "file_extension": ".py",
      "mimetype": "text/x-python",
      "name": "python",
      "nbconvert_exporter": "python",
      "pygments_lexer": "ipython3",
      "version": "3.8.9"
    }
  },
  "nbformat": 4,
  "nbformat_minor": 5
}
